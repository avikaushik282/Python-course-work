{
 "cells": [
  {
   "cell_type": "markdown",
   "metadata": {},
   "source": [
    "Treasure Island"
   ]
  },
  {
   "cell_type": "code",
   "execution_count": 7,
   "metadata": {},
   "outputs": [
    {
     "name": "stdout",
     "output_type": "stream",
     "text": [
      "Welcome to the treasure island.\n",
      "Your mission is to find the treasure.\n",
      "Damn! You actually did it. YOu won.\n"
     ]
    }
   ],
   "source": [
    "print(\"Welcome to the treasure island.\")\n",
    "print(\"Your mission is to find the treasure.\")\n",
    "\n",
    "choice1 = input(\"You're at a cross road. Where do you want to go? Type 'left' or 'right'\")\n",
    "choice1 = choice1.lower()\n",
    "if choice1 == \"left\":\n",
    "    choice2 = input(\"You've come at a lake. There is an island in the middle of the lake. Type 'wait' to wait for a boat. Type 'swim' to swim accross.\")\n",
    "    choice2 = choice2.lower()\n",
    "    if choice2 == \"wait\":\n",
    "        choice3 = input(\"You boarded a boat and arrived at small island, there is a building with 3 doors. Which door will you choose? Red, Blue or Yellow.\")\n",
    "        choice3 = choice3.lower()\n",
    "        if choice3 == \"yellow\":\n",
    "            print(\"Damn! You actually did it. YOu won.\")\n",
    "        elif choice3 == \"Red\":\n",
    "            print(\"Ohh, you were really close.\")\n",
    "        else:\n",
    "            print(\"Ohh, you were really close.\")\n",
    "    else:\n",
    "        print(\"You may be a good swimmer, but you can't out outswim a SHARK!!!\")\n",
    "else:\n",
    "    print(\"You slipped on a cliff and fell into the abyss. WASTED\")    "
   ]
  }
 ],
 "metadata": {
  "kernelspec": {
   "display_name": "Python 3.9.12 64-bit (system)",
   "language": "python",
   "name": "python3"
  },
  "language_info": {
   "codemirror_mode": {
    "name": "ipython",
    "version": 3
   },
   "file_extension": ".py",
   "mimetype": "text/x-python",
   "name": "python",
   "nbconvert_exporter": "python",
   "pygments_lexer": "ipython3",
   "version": "3.9.12"
  },
  "orig_nbformat": 4,
  "vscode": {
   "interpreter": {
    "hash": "36a754fbb3ce902cf6580ad4130458a8ec9c518b3c7c48ed327c4cdeac33b5b1"
   }
  }
 },
 "nbformat": 4,
 "nbformat_minor": 2
}
