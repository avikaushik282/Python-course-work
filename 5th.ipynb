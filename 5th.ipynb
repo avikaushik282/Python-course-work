{
 "cells": [
  {
   "cell_type": "code",
   "execution_count": 1,
   "metadata": {},
   "outputs": [
    {
     "name": "stdout",
     "output_type": "stream",
     "text": [
      "Average height is 13.0\n"
     ]
    }
   ],
   "source": [
    "student_heights = input(\"Input list of student heights\").split()\n",
    "def new_func(student_heights):\n",
    "    heights = 0\n",
    "    for n in range(0,len(student_heights)):\n",
    "        student_heights[n] = int(student_heights[n])\n",
    "        heights += student_heights[n]\n",
    "    average = heights/len(student_heights)\n",
    "    print(f\"Average height is {average}\")\n",
    "\n",
    "new_func(student_heights)"
   ]
  },
  {
   "cell_type": "code",
   "execution_count": 3,
   "metadata": {},
   "outputs": [
    {
     "name": "stdout",
     "output_type": "stream",
     "text": [
      "The highest score in the class is: 188\n"
     ]
    }
   ],
   "source": [
    "student_scores = input(\"Input a list of student scores\").split()\n",
    "def afunc(student_scores):\n",
    "    for n in range(0, len(student_scores)):\n",
    "        student_scores[n] = int(student_scores[n])\n",
    "    # maximum = student_scores[0]\n",
    "    # for x in range(0,len(student_scores)):\n",
    "    #     if maximum <= student_scores[x]:\n",
    "    #         maximum = student_scores[x]\n",
    "    maximum = 0\n",
    "    for score in student_scores:\n",
    "        if score > maximum:\n",
    "            maximum = score\n",
    "    print(f\"The highest score in the class is: {maximum}\")\n",
    "\n",
    "afunc(student_scores)"
   ]
  }
 ],
 "metadata": {
  "kernelspec": {
   "display_name": "Python 3.9.12 ('base')",
   "language": "python",
   "name": "python3"
  },
  "language_info": {
   "codemirror_mode": {
    "name": "ipython",
    "version": 3
   },
   "file_extension": ".py",
   "mimetype": "text/x-python",
   "name": "python",
   "nbconvert_exporter": "python",
   "pygments_lexer": "ipython3",
   "version": "3.9.12"
  },
  "orig_nbformat": 4,
  "vscode": {
   "interpreter": {
    "hash": "36a754fbb3ce902cf6580ad4130458a8ec9c518b3c7c48ed327c4cdeac33b5b1"
   }
  }
 },
 "nbformat": 4,
 "nbformat_minor": 2
}
