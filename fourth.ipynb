{
 "cells": [
  {
   "cell_type": "code",
   "execution_count": 1,
   "metadata": {},
   "outputs": [
    {
     "name": "stdout",
     "output_type": "stream",
     "text": [
      "1\n"
     ]
    }
   ],
   "source": [
    "import random\n",
    "random.seed(123)#Always generates same number\n",
    "random_integer = random.randint(1,10)\n",
    "print(random_integer)"
   ]
  },
  {
   "cell_type": "code",
   "execution_count": 2,
   "metadata": {},
   "outputs": [
    {
     "name": "stdout",
     "output_type": "stream",
     "text": [
      "0.2676771662174662\n"
     ]
    }
   ],
   "source": [
    "random.seed(123)\n",
    "random_float = random.random()\n",
    "print(random_float)"
   ]
  },
  {
   "cell_type": "code",
   "execution_count": 4,
   "metadata": {},
   "outputs": [
    {
     "name": "stdout",
     "output_type": "stream",
     "text": [
      "Heads\n"
     ]
    }
   ],
   "source": [
    "test_seed = int(input(\"Create a seed number: \"))\n",
    "random.seed(test_seed)\n",
    "x = random.randint(0,1)\n",
    "if x==0:\n",
    "    print(\"Heads\")\n",
    "else:\n",
    "    print(\"Tails\")"
   ]
  },
  {
   "cell_type": "markdown",
   "metadata": {},
   "source": [
    "Data Structures"
   ]
  },
  {
   "cell_type": "code",
   "execution_count": 5,
   "metadata": {},
   "outputs": [
    {
     "name": "stdout",
     "output_type": "stream",
     "text": [
      "[1, 2, 3, 4, 5, 6]\n"
     ]
    }
   ],
   "source": [
    "my = [1,2,3,4,5,6]\n",
    "print(my)"
   ]
  },
  {
   "cell_type": "code",
   "execution_count": 6,
   "metadata": {},
   "outputs": [
    {
     "name": "stdout",
     "output_type": "stream",
     "text": [
      "[1, 2, 3, 4, 5, 6, 9]\n"
     ]
    }
   ],
   "source": [
    "my.append(9)\n",
    "print(my)"
   ]
  },
  {
   "cell_type": "code",
   "execution_count": 7,
   "metadata": {},
   "outputs": [
    {
     "name": "stdout",
     "output_type": "stream",
     "text": [
      "[1, 2, 3, 4, 5, 6, 9, 8, 2, 80, 79, 75848]\n"
     ]
    }
   ],
   "source": [
    "my.extend([8,2,80,79,75848])\n",
    "print(my)"
   ]
  },
  {
   "cell_type": "code",
   "execution_count": 9,
   "metadata": {},
   "outputs": [
    {
     "name": "stdout",
     "output_type": "stream",
     "text": [
      "cde is paying the bill today!\n"
     ]
    }
   ],
   "source": [
    "import random\n",
    "\n",
    "test_seed = int(input(\"Create a seed number: \"))\n",
    "random.seed(test_seed)\n",
    "\n",
    "nameAsCSV = input(\"Type everybody's names\")\n",
    "names = nameAsCSV.split(\", \")\n",
    "\n",
    "length = len(names)\n",
    "pay = random.randint(0,length-1)\n",
    "\n",
    "print(f\"{names[pay]} is paying the bill today!\")"
   ]
  },
  {
   "cell_type": "code",
   "execution_count": 11,
   "metadata": {},
   "outputs": [
    {
     "name": "stdout",
     "output_type": "stream",
     "text": [
      "plm is paying the bill today!\n"
     ]
    }
   ],
   "source": [
    "import random\n",
    "\n",
    "test_seed = int(input(\"Create a seed number: \"))\n",
    "random.seed(test_seed)\n",
    "\n",
    "nameAsCSV = input(\"Type everybody's names\")\n",
    "names = nameAsCSV.split(\", \")\n",
    "\n",
    "pay = random.choice(names)\n",
    "\n",
    "print(f\"{pay} is paying the bill today!\")\n",
    "\n",
    "\n",
    "#random.sample randomizes a string but converts it into a list\n",
    "#random.shuffle randomizes a list"
   ]
  },
  {
   "cell_type": "markdown",
   "metadata": {},
   "source": [
    "Treasure map"
   ]
  },
  {
   "cell_type": "code",
   "execution_count": 17,
   "metadata": {},
   "outputs": [
    {
     "name": "stdout",
     "output_type": "stream",
     "text": [
      "['⛺', '⛺', '⛺']\n",
      "['⛺', '⛺', '⛺']\n",
      "['⛺', '⛺', '⛺']\n",
      "This is your map:\n",
      "\n",
      "['⛺', '⛺', '⛺']\n",
      "['⛺', '⛺', '⛺']\n",
      "['⛺', 'x', '⛺']\n"
     ]
    }
   ],
   "source": [
    "row1 = [\"⛺\",\"⛺\",\"⛺\"]\n",
    "row2 = [\"⛺\",\"⛺\",\"⛺\"]\n",
    "row3 = [\"⛺\",\"⛺\",\"⛺\"]\n",
    "\n",
    "map = [row1, row2, row3]\n",
    "print(f\"{row1}\\n{row2}\\n{row3}\")\n",
    "position = input(\"Where do you want to put the treasure?\")\n",
    "column = int(int(position)/10)\n",
    "row = int(int(position)%10)\n",
    "\n",
    "# if row==1:\n",
    "#     row1[column-1] = \"x\"\n",
    "# elif row==2:\n",
    "#     row2[column-1] = \"x\"\n",
    "# elif row==3:\n",
    "#     row3[column-1] = \"x\"\n",
    "# else:\n",
    "#     print(\"Enter correct position.\")\n",
    "map[row-1][column-1] = \"x\"\n",
    "print(\"This is your map:\\n\")\n",
    "print(f\"{row1}\\n{row2}\\n{row3}\")\n"
   ]
  },
  {
   "cell_type": "markdown",
   "metadata": {},
   "source": [
    "Rock Paper Scissors"
   ]
  },
  {
   "cell_type": "code",
   "execution_count": 44,
   "metadata": {},
   "outputs": [
    {
     "name": "stdout",
     "output_type": "stream",
     "text": [
      "0\n",
      "\n",
      "        _______\n",
      "    ---'   ____)\n",
      "        (_____)\n",
      "        (_____)\n",
      "        (____)\n",
      "  ---.__(___)\n",
      "    \n",
      "Computer chooses: \n",
      "2\n",
      "\n",
      "        _______\n",
      "    ---'   ___)\n",
      "            ______)\n",
      "        __________)\n",
      "        (____)\n",
      "  ---.__(___)\n",
      "    \n",
      "You Win!!\n"
     ]
    }
   ],
   "source": [
    "import random\n",
    "player = int(input(\"What do you choose? Type 0 for Rock, 1 for Paper or 2 fro Scissors\"))\n",
    "if player>2:\n",
    "    print(\"You typed an invalid number. You lose!\")\n",
    "else:\n",
    "    print(player)\n",
    "    rock = \"\"\"\n",
    "        _______\n",
    "    ---'   ____)\n",
    "        (_____)\n",
    "        (_____)\n",
    "        (____)\n",
    "  ---.__(___)\n",
    "    \"\"\"\n",
    "    paper = \"\"\"\n",
    "        _______\n",
    "    ---'    _____)\n",
    "            _________)\n",
    "            ___________)\n",
    "            __________)\n",
    "  ---.______________)\n",
    "    \"\"\"\n",
    "    scissors = \"\"\"\n",
    "        _______\n",
    "    ---'   ___)\n",
    "            ______)\n",
    "        __________)\n",
    "        (____)\n",
    "  ---.__(___)\n",
    "    \"\"\"\n",
    "    game_images = [rock,paper,scissors]\n",
    "    print(game_images[player])\n",
    "\n",
    "    choices = [0,1,2]\n",
    "    computer = random.choice(choices)\n",
    "    # or computer = random.randint(0,2)\n",
    "\n",
    "    print(f\"Computer chooses: \\n{computer}\")\n",
    "    if computer==0:\n",
    "        print(rock)\n",
    "    elif computer==1:\n",
    "        print(paper)\n",
    "    else:\n",
    "        print(scissors)\n",
    "\n",
    "    if (computer == 0 and player ==1) or (computer == 1 and player ==2) or (computer==2 and player==0):\n",
    "        print(\"You Win!!\")\n",
    "    elif computer == player:\n",
    "        print(\"Draw!\")\n",
    "    else:\n",
    "        print(\"Computer Wins\")\n"
   ]
  }
 ],
 "metadata": {
  "kernelspec": {
   "display_name": "Python 3.9.12 ('base')",
   "language": "python",
   "name": "python3"
  },
  "language_info": {
   "codemirror_mode": {
    "name": "ipython",
    "version": 3
   },
   "file_extension": ".py",
   "mimetype": "text/x-python",
   "name": "python",
   "nbconvert_exporter": "python",
   "pygments_lexer": "ipython3",
   "version": "3.9.12"
  },
  "orig_nbformat": 4,
  "vscode": {
   "interpreter": {
    "hash": "36a754fbb3ce902cf6580ad4130458a8ec9c518b3c7c48ed327c4cdeac33b5b1"
   }
  }
 },
 "nbformat": 4,
 "nbformat_minor": 2
}
