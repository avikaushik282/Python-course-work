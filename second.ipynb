{
 "cells": [
  {
   "cell_type": "code",
   "execution_count": 1,
   "metadata": {},
   "outputs": [
    {
     "name": "stdout",
     "output_type": "stream",
     "text": [
      "Odd\n"
     ]
    }
   ],
   "source": [
    "number = int(input(\"Which number do you want to choose\"))\n",
    "if number%2 == 0:\n",
    "    print(\"Even\")\n",
    "else:\n",
    "    print(\"Odd\")"
   ]
  },
  {
   "cell_type": "code",
   "execution_count": 2,
   "metadata": {},
   "outputs": [
    {
     "name": "stdout",
     "output_type": "stream",
     "text": [
      "Welcome to the rollercoaster!\n",
      "You can ride the rollercoaster\n",
      "Please pay 12rs\n"
     ]
    }
   ],
   "source": [
    "print(\"Welcome to the rollercoaster!\")\n",
    "height = int(input(\"What is your height?\"))\n",
    "\n",
    "if height >= 120:\n",
    "    print(\"You can ride the rollercoaster\")\n",
    "    age = int(input(\"What is your age?\"))\n",
    "    if age < 12:\n",
    "        print(\"Please pay 5rs\")\n",
    "    elif age <= 18:\n",
    "        print(\"Please pay 7rs\")\n",
    "    else:\n",
    "        print(\"Please pay 12rs\")\n",
    "else:\n",
    "    print(\"You can't ride\")"
   ]
  },
  {
   "cell_type": "code",
   "execution_count": 2,
   "metadata": {},
   "outputs": [
    {
     "name": "stdout",
     "output_type": "stream",
     "text": [
      "This is not a leap year.\n"
     ]
    }
   ],
   "source": [
    "year = int(input(\"Which year do you want to check\"))\n",
    "\n",
    "if year%4==0:\n",
    "    if year%100!=0:\n",
    "        print(\"This is a leap year.\")\n",
    "    else:\n",
    "        if year%400==0:\n",
    "            print(\"This is a leap year.\")\n",
    "        else:\n",
    "            print(\"This is not a leap year.\")\n",
    "else:\n",
    "    print(\"This is not a leap year.\")"
   ]
  },
  {
   "cell_type": "code",
   "execution_count": 4,
   "metadata": {},
   "outputs": [
    {
     "name": "stdout",
     "output_type": "stream",
     "text": [
      "Welcome to the rollercoaster!\n",
      "You can ride the rollercoaster\n",
      "Your bill is $15.\n"
     ]
    }
   ],
   "source": [
    "print(\"Welcome to the rollercoaster!\")\n",
    "height = int(input(\"What is your height?\"))\n",
    "bill = 0\n",
    "\n",
    "if height >= 120:\n",
    "    print(\"You can ride the rollercoaster\")\n",
    "    age = int(input(\"What is your age?\"))\n",
    "    if age < 12:\n",
    "        bill = 5\n",
    "    elif age <= 18:\n",
    "        bill = 7\n",
    "    else:\n",
    "        bill = 12\n",
    "\n",
    "    photo = input(\"Do you want a photo taken? Y or N.\")\n",
    "\n",
    "    if photo == \"Y\":\n",
    "        bill = bill + 3\n",
    "    print(f\"Your bill is ${bill}.\")\n",
    "else:\n",
    "    print(\"You can't ride\")"
   ]
  },
  {
   "cell_type": "code",
   "execution_count": 5,
   "metadata": {},
   "outputs": [
    {
     "name": "stdout",
     "output_type": "stream",
     "text": [
      "Pizza Deliveries\n",
      "Your bill is $18.\n"
     ]
    }
   ],
   "source": [
    "print(\"Pizza Deliveries\")\n",
    "size = input(\"What size pizza do you want? S, M or L\")\n",
    "add_pepperoni = input(\"DO you want pepperoni? Y or N\")\n",
    "extra_cheese = input(\"Do you want extra cheese? Y or N\")\n",
    "bill = 0\n",
    "\n",
    "if size == \"S\":\n",
    "    bill = 15\n",
    "    if add_pepperoni == \"Y\":\n",
    "        bill += 2\n",
    "    if extra_cheese == \"Y\":\n",
    "        bill += 1\n",
    "if size == \"M\":\n",
    "    bill = 20\n",
    "    if add_pepperoni == \"Y\":\n",
    "        bill += 3\n",
    "    if extra_cheese == \"Y\":\n",
    "        bill += 1\n",
    "if size == \"L\":\n",
    "    bill = 25\n",
    "    if add_pepperoni == \"Y\":\n",
    "        bill += 3\n",
    "    if extra_cheese == \"Y\":\n",
    "        bill += 1\n",
    "\n",
    "print(f\"Your bill is ${bill}.\")"
   ]
  },
  {
   "cell_type": "code",
   "execution_count": null,
   "metadata": {},
   "outputs": [],
   "source": []
  }
 ],
 "metadata": {
  "kernelspec": {
   "display_name": "Python 3.9.12 64-bit (system)",
   "language": "python",
   "name": "python3"
  },
  "language_info": {
   "codemirror_mode": {
    "name": "ipython",
    "version": 3
   },
   "file_extension": ".py",
   "mimetype": "text/x-python",
   "name": "python",
   "nbconvert_exporter": "python",
   "pygments_lexer": "ipython3",
   "version": "3.9.12"
  },
  "orig_nbformat": 4,
  "vscode": {
   "interpreter": {
    "hash": "36a754fbb3ce902cf6580ad4130458a8ec9c518b3c7c48ed327c4cdeac33b5b1"
   }
  }
 },
 "nbformat": 4,
 "nbformat_minor": 2
}
